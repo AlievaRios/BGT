{
 "cells": [
  {
   "cell_type": "markdown",
   "id": "faa65c78-4411-4f0d-a144-75bc1b220e29",
   "metadata": {},
   "source": [
    "# Pre-processing of raw SORTseq files (QC, filtering)\n",
    "<span style=\"font-size:0.85em;\">Written by: Peter Brazda (20 Feb 2024) - Last Update: Farid Keramati, Peter Brazda (13 March 2024)</span>"
   ]
  },
  {
   "cell_type": "markdown",
   "id": "82eeec12-a576-43be-b78f-7818e53352fd",
   "metadata": {},
   "source": [
    "This workflow aims to help an initial, per-plate (visual) inspection (1) and to prepare expression matrices for the downstream steps (2):\n",
    "<details><summary><b>1. QC </b></summary>\n",
    "&nbsp;&nbsp;&nbsp;&nbsp;&nbsp;&nbsp;&nbsp;&nbsp;1.1 Set the environment</br>\n",
    "&nbsp;&nbsp;&nbsp;&nbsp;&nbsp;&nbsp;&nbsp;&nbsp;1.2 Collect the input files</br>\n",
    "&nbsp;&nbsp;&nbsp;&nbsp;&nbsp;&nbsp;&nbsp;&nbsp;1.3 Run the loop to generate the .pdf reports</details>\n",
    "<details><summary><b>2. Filtering </b></summary>\n",
    "&nbsp;&nbsp;&nbsp;&nbsp;&nbsp;&nbsp;&nbsp;&nbsp;2.1 Set the environment</br>\n",
    "&nbsp;&nbsp;&nbsp;&nbsp;&nbsp;&nbsp;&nbsp;&nbsp;2.2 Collect the input files</br>\n",
    "&nbsp;&nbsp;&nbsp;&nbsp;&nbsp;&nbsp;&nbsp;&nbsp;2.3 Run the loop to generate the filtered matrices</br>\n",
    "\n",
    "</details>"
   ]
  },
  {
   "cell_type": "markdown",
   "id": "9f52e3f0-9c66-40ee-882e-7163a6fd6074",
   "metadata": {},
   "source": [
    " <div class=\"alert alert-block alert-warning\">\n",
    "&#9888;<b>Warning:</b>Before running the script make sure to download <a><b>Functions_QC.R</b></a> for the helper functions, <a><b>hg38_genes_with_ERCC_unique_ensembl_gene.tab</b></a> for the genome annotation and <a><b>Plate_distribution_simple.xlsx</b></a> for the 384-well plate format and the raw matrix files for example <a><b>TM621.transcripts</b></a> (the format of the name is important). </br>\n",
    "&nbsp;&nbsp;&nbsp;&nbsp;&nbsp;&nbsp;&nbsp;&nbsp;&nbsp;&nbsp;&nbsp;&nbsp;&nbsp;&nbsp;&nbsp;&nbsp;&nbsp;&nbsp;&nbsp;&nbsp;&nbsp;The pipeline requires an output folder for the compiled .pdf reports and also a 'temp' folder for the intermediate .png files.\n",
    "</div>"
   ]
  },
  {
   "cell_type": "markdown",
   "id": "5056c52c-61b2-44a7-b432-9275d7f3518d",
   "metadata": {},
   "source": [
    "## 1. Generate QC-reports per plate"
   ]
  },
  {
   "cell_type": "markdown",
   "id": "1a1f931b-5a06-4f4c-8ebf-6ecad8c46701",
   "metadata": {},
   "source": [
    "### 1.1 Set the environment\n",
    "Identify the input/output folders and load the helper files."
   ]
  },
  {
   "cell_type": "code",
   "execution_count": 8,
   "id": "c276a5d0-ebbe-41e8-ba45-4e3d0f3350be",
   "metadata": {},
   "outputs": [
    {
     "name": "stderr",
     "output_type": "stream",
     "text": [
      "New names:\n",
      "* `` -> ...1\n",
      "* `` -> ...2\n",
      "* `` -> ...3\n",
      "* `` -> ...4\n",
      "* `` -> ...5\n",
      "* ...\n",
      "\n"
     ]
    }
   ],
   "source": [
    "\n",
    "home <- \"\" # select home directory\n",
    "\n",
    "setwd(home)\n",
    "\n",
    "source(paste0(home,\"/helper_files/Functions_QC.R\")) # the function to generate the QC plots for one plate\n",
    "dir <-  paste0(home,\"/out/qc_plots/\") # location for the final output .pdf file (the per-plate visual report)\n",
    "temp <- paste0(home,\"/out/qc_plots/temp\") # location for the temporary .png files\n",
    "matrices <- paste0(home,\"/in/\") # location for the raw matrix files\n",
    "gencode <- read.table(paste0(home,\"/helper_files/hg38_genes_with_ERCC_unique_ensembl_gene.tab\"), header = TRUE) # the hg38 reference extended with the ERCC genes\n",
    "primer <- read_excel(paste0(home,\"/helper_files/Plate_distribution_simple.xlsx\"), col_names = FALSE) # primer plate distribution file\n"
   ]
  },
  {
   "cell_type": "code",
   "execution_count": 9,
   "id": "f5c7bcd9-d368-41e0-a0dc-cf43eb5bf2a6",
   "metadata": {},
   "outputs": [
    {
     "data": {
      "text/html": [
       "<style>\n",
       ".list-inline {list-style: none; margin:0; padding: 0}\n",
       ".list-inline>li {display: inline-block}\n",
       ".list-inline>li:not(:last-child)::after {content: \"\\00b7\"; padding: 0 .5ex}\n",
       "</style>\n",
       "<ol class=list-inline><li>'dir'</li><li>'Filter_SORTseq_tables'</li><li>'gencode'</li><li>'home'</li><li>'matrices'</li><li>'Prepare_SORTseq_QC_report'</li><li>'primer'</li><li>'temp'</li></ol>\n"
      ],
      "text/latex": [
       "\\begin{enumerate*}\n",
       "\\item 'dir'\n",
       "\\item 'Filter\\_SORTseq\\_tables'\n",
       "\\item 'gencode'\n",
       "\\item 'home'\n",
       "\\item 'matrices'\n",
       "\\item 'Prepare\\_SORTseq\\_QC\\_report'\n",
       "\\item 'primer'\n",
       "\\item 'temp'\n",
       "\\end{enumerate*}\n"
      ],
      "text/markdown": [
       "1. 'dir'\n",
       "2. 'Filter_SORTseq_tables'\n",
       "3. 'gencode'\n",
       "4. 'home'\n",
       "5. 'matrices'\n",
       "6. 'Prepare_SORTseq_QC_report'\n",
       "7. 'primer'\n",
       "8. 'temp'\n",
       "\n",
       "\n"
      ],
      "text/plain": [
       "[1] \"dir\"                       \"Filter_SORTseq_tables\"    \n",
       "[3] \"gencode\"                   \"home\"                     \n",
       "[5] \"matrices\"                  \"Prepare_SORTseq_QC_report\"\n",
       "[7] \"primer\"                    \"temp\"                     "
      ]
     },
     "metadata": {},
     "output_type": "display_data"
    }
   ],
   "source": [
    "ls()"
   ]
  },
  {
   "cell_type": "markdown",
   "id": "6411491b-5fef-4110-bb86-6965a869b757",
   "metadata": {},
   "source": [
    "### 1.2 Collect a list of all .transcript.txt files"
   ]
  },
  {
   "cell_type": "code",
   "execution_count": 11,
   "id": "206f0633-ba4a-4744-9193-b0f3816cc9b7",
   "metadata": {},
   "outputs": [],
   "source": [
    "transcript_files <- list.files(matrices, '\\\\.transcripts.txt$', full.names = TRUE)"
   ]
  },
  {
   "cell_type": "markdown",
   "id": "16fb9992-7a68-4614-8b1d-97e4c68e291a",
   "metadata": {},
   "source": [
    "### 1.3 Loop through each file to generate QC report\n",
    "It is advised to remove the <code><a>suppressWarnings</a></code> during the first run."
   ]
  },
  {
   "cell_type": "code",
   "execution_count": null,
   "id": "9deabdd9-c644-4373-8583-78e481a087ba",
   "metadata": {},
   "outputs": [],
   "source": [
    "suppressWarnings({\n",
    "\n",
    "    for(file_path in transcript_files) {\n",
    "  setwd(home)\n",
    "  plateID <- gsub(\"\\\\.transcripts\\\\.txt$\", \"\", basename(file_path)) # extract the plateID from the file name\n",
    "  setwd(temp)\n",
    "  \n",
    "  # Generate QC report for the current plate\n",
    "  Prepare_SORTseq_QC_report(plateID = plateID, matrices = matrices, primer = primer, gencode = gencode) # the function is defined in Functions_QC.R\n",
    "  \n",
    "  # Grab the files from the temp folder\n",
    "  files <- list.files(temp, '\\\\.png$', full.names = TRUE)\n",
    "  rl <- lapply(files, png::readPNG)\n",
    "  gl <- lapply(rl, grid::rasterGrob)\n",
    "  \n",
    "  pdf_file <- paste0(dir, \"QCreport_\", plateID, \".pdf\")\n",
    "  ggsave(pdf_file, gridExtra::marrangeGrob(grobs = gl, nrow = 5, ncol = 4, top = NULL), width = 8, height = 10)\n",
    "  file.remove(files) # Remove temporary .png files after saving the report\n",
    "}\n",
    "    })\n",
    "    "
   ]
  },
  {
   "cell_type": "markdown",
   "id": "cdf5a2b2-f3e4-45f3-b5f7-155ed127b12a",
   "metadata": {},
   "source": [
    "## 2. Filter the matrices"
   ]
  },
  {
   "cell_type": "markdown",
   "id": "a36562bf-8d11-4184-ab68-f7e4851d00ff",
   "metadata": {},
   "source": [
    "### 2.1 Set the environment\n",
    "Identify the input/output folders and load the helper files."
   ]
  },
  {
   "cell_type": "code",
   "execution_count": 17,
   "id": "88bc221e-7fcb-4879-a425-c780f247b578",
   "metadata": {},
   "outputs": [],
   "source": [
    "home <- \"\" # select home directory\n",
    "\n",
    "\n",
    "setwd(home)\n",
    "source(paste0(home,\"/helper_files/Functions_QC.R\")) # the function to generate the QC plots for one plate\n",
    "dir <-  paste0(home,\"/out/qc_plots/\") # location for the final output .pdf file (the per-plate visual report)\n",
    "\n",
    "gencode <- read.table(paste0(home,\"/helper_files/hg38_genes_with_ERCC_unique_ensembl_gene.tab\"), header = TRUE) # the hg38 reference extended with the ERCC genes\n",
    "input_location <- paste0(home,\"/in/\") # location for the raw matrix files\n",
    "output_location_nME <- paste0(home,\"/out/qc_plots/1_noMITO_noERCC/\") # output folder for the matrix after filtering and subsequent removal of mitochondrial AND ERCC genes\n",
    "output_location_nE <- paste0(home,\"/out/qc_plots/2_noERCC/\")  # output folder for the matrix after filtering and subsequent removal of ERCC genes\n",
    "\n"
   ]
  },
  {
   "cell_type": "markdown",
   "id": "a06723a6-9466-4c8f-8843-ba6df611249f",
   "metadata": {},
   "source": [
    "### 2.2 Collect a list of all .transcript.txt files"
   ]
  },
  {
   "cell_type": "code",
   "execution_count": 18,
   "id": "acf9b825-6359-42f6-8ff2-8fd436871950",
   "metadata": {},
   "outputs": [],
   "source": [
    "transcript_files <- list.files(input_location, pattern = \"\\\\.transcripts\\\\.txt$\", full.names = FALSE)"
   ]
  },
  {
   "cell_type": "markdown",
   "id": "860f4dd6-6d36-449d-9100-f08cc5f9b542",
   "metadata": {},
   "source": [
    "### 2.3 Loop through each file to process them\n",
    "This loop uses a custom function that identifies mitochondrial and ERCC genes and generates matrices without these genes.\n",
    "It is advised to remove the <code><a>suppressWarnings</a></code> during the first run."
   ]
  },
  {
   "cell_type": "code",
   "execution_count": 20,
   "id": "fd435c03-91c1-4f7c-a48a-efb9b7cdf4e6",
   "metadata": {},
   "outputs": [],
   "source": [
    "suppressWarnings({\n",
    "    for(file_name in transcript_files) {\n",
    "  plateID <- gsub(\"\\\\.transcripts\\\\.txt$\", \"\", file_name) # extract the plateID from the file name\n",
    "  \n",
    "  # Call the filtering function for each plate\n",
    "  Filter_SORTseq_tables(plate = plateID,  # the function is defined in Functions_QC.R\n",
    "                        input_location = input_location,\n",
    "                        # mito.pct.max = mito.pct.max, # set the upper limit for % mitochondrial gene counts per cell, default = 30\n",
    "                        # ercc.content.max = ercc.content.max # set the upper limit for % ERCC gene counts per cell (high % reflects failed mRNA-capture, but successful amplification), default = 25\n",
    "                        output_location_nME = output_location_nME,\n",
    "                        output_location_nE = output_location_nE) \n",
    "}\n",
    "    })\n"
   ]
  },
  {
   "cell_type": "code",
   "execution_count": 21,
   "id": "fdd61a1f-c7a6-4eaf-a572-65bcd37ecdd8",
   "metadata": {},
   "outputs": [
    {
     "name": "stdout",
     "output_type": "stream",
     "text": [
      "R version 4.0.5 (2021-03-31)\n",
      "Platform: x86_64-pc-linux-gnu (64-bit)\n",
      "Running under: Ubuntu 20.04.2 LTS\n",
      "\n",
      "Matrix products: default\n",
      "BLAS/LAPACK: /usr/lib/x86_64-linux-gnu/openblas-pthread/libopenblasp-r0.3.8.so\n",
      "\n",
      "locale:\n",
      " [1] LC_CTYPE=en_US.UTF-8       LC_NUMERIC=C              \n",
      " [3] LC_TIME=en_US.UTF-8        LC_COLLATE=en_US.UTF-8    \n",
      " [5] LC_MONETARY=en_US.UTF-8    LC_MESSAGES=C             \n",
      " [7] LC_PAPER=en_US.UTF-8       LC_NAME=C                 \n",
      " [9] LC_ADDRESS=C               LC_TELEPHONE=C            \n",
      "[11] LC_MEASUREMENT=en_US.UTF-8 LC_IDENTIFICATION=C       \n",
      "\n",
      "attached base packages:\n",
      "[1] stats     graphics  grDevices utils     datasets  methods   base     \n",
      "\n",
      "other attached packages:\n",
      " [1] viridis_0.6.1     viridisLite_0.4.0 gridExtra_2.3     png_0.1-7        \n",
      " [5] plyr_1.8.6        scales_1.1.1      platetools_0.1.5  readxl_1.3.1     \n",
      " [9] data.table_1.14.0 forcats_0.5.1     stringr_1.4.0     dplyr_1.0.6      \n",
      "[13] purrr_0.3.4       readr_1.4.0       tidyr_1.1.3       tibble_3.1.2     \n",
      "[17] ggplot2_3.3.3     tidyverse_1.3.1  \n",
      "\n",
      "loaded via a namespace (and not attached):\n",
      " [1] Rcpp_1.0.6         lubridate_1.7.10   ps_1.6.0           assertthat_0.2.1  \n",
      " [5] digest_0.6.27      utf8_1.2.1         IRdisplay_1.0      R6_2.5.0          \n",
      " [9] cellranger_1.1.0   repr_1.1.3         backports_1.2.1    reprex_2.0.0      \n",
      "[13] evaluate_0.14      httr_1.4.2         pillar_1.6.1       rlang_0.4.11      \n",
      "[17] uuid_0.1-4         rstudioapi_0.13    labeling_0.4.2     munsell_0.5.0     \n",
      "[21] broom_0.7.6        compiler_4.0.5     modelr_0.1.8       pkgconfig_2.0.3   \n",
      "[25] base64enc_0.1-3    htmltools_0.5.1.1  tidyselect_1.1.1   fansi_0.4.2       \n",
      "[29] crayon_1.4.1       dbplyr_2.1.1       withr_2.4.2        grid_4.0.5        \n",
      "[33] jsonlite_1.7.2     gtable_0.3.0       lifecycle_1.0.0    DBI_1.1.1         \n",
      "[37] magrittr_2.0.1     cli_2.5.0          stringi_1.6.2      farver_2.1.0      \n",
      "[41] fs_1.5.0           xml2_1.3.2         ellipsis_0.3.2     generics_0.1.0    \n",
      "[45] vctrs_0.3.8        IRkernel_1.2       RColorBrewer_1.1-2 tools_4.0.5       \n",
      "[49] glue_1.4.2         hms_1.1.0          colorspace_2.0-1   rvest_1.0.0       \n",
      "[53] pbdZMQ_0.3-5       haven_2.4.1       \n"
     ]
    }
   ],
   "source": [
    "print(sessionInfo())"
   ]
  },
  {
   "cell_type": "code",
   "execution_count": null,
   "id": "26ddbedd-e153-4fa0-b5aa-7512b3c8007c",
   "metadata": {},
   "outputs": [],
   "source": []
  }
 ],
 "metadata": {
  "kernelspec": {
   "display_name": "R",
   "language": "R",
   "name": "ir"
  },
  "language_info": {
   "codemirror_mode": "r",
   "file_extension": ".r",
   "mimetype": "text/x-r-source",
   "name": "R",
   "pygments_lexer": "r",
   "version": "4.0.5"
  }
 },
 "nbformat": 4,
 "nbformat_minor": 5
}
